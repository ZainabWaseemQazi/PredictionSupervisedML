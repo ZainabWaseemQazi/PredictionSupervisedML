{
 "cells": [
  {
   "cell_type": "markdown",
   "id": "e9122ded",
   "metadata": {},
   "source": [
    "## GRIP: The Spark Foundation\n",
    "### Zainab Waseem Qazi\n",
    "### Data Science and Business Analytics Internee"
   ]
  },
  {
   "cell_type": "markdown",
   "id": "b0b444fd",
   "metadata": {},
   "source": [
    "##### Importing Libraries"
   ]
  },
  {
   "cell_type": "code",
   "execution_count": 21,
   "id": "1ccce639",
   "metadata": {},
   "outputs": [],
   "source": [
    "import pandas as pd\n",
    "import numpy as np\n",
    "import matplotlib.pyplot as plt"
   ]
  },
  {
   "cell_type": "markdown",
   "id": "068eb3c4",
   "metadata": {},
   "source": [
    "##### Loading Data"
   ]
  },
  {
   "cell_type": "code",
   "execution_count": 22,
   "id": "cc65f7ef",
   "metadata": {
    "scrolled": true
   },
   "outputs": [
    {
     "name": "stdout",
     "output_type": "stream",
     "text": [
      "Successfully inported data at this step\n"
     ]
    }
   ],
   "source": [
    "#Loading data\n",
    "data_link=\"http://bit.ly/w-data\"\n",
    "stu_data=pd.read_csv(data_link)\n",
    "print(\"Successfully inported data at this step\")"
   ]
  },
  {
   "cell_type": "markdown",
   "id": "bb69615d",
   "metadata": {},
   "source": [
    "##### Displaying Data"
   ]
  },
  {
   "cell_type": "code",
   "execution_count": 23,
   "id": "0b043904",
   "metadata": {
    "scrolled": true
   },
   "outputs": [
    {
     "name": "stdout",
     "output_type": "stream",
     "text": [
      "   Hours  Scores\n",
      "0    2.5      21\n",
      "1    5.1      47\n",
      "2    3.2      27\n",
      "3    8.5      75\n",
      "4    3.5      30\n",
      "    Hours  Scores\n",
      "20    2.7      30\n",
      "21    4.8      54\n",
      "22    3.8      35\n",
      "23    6.9      76\n",
      "24    7.8      86\n"
     ]
    }
   ],
   "source": [
    "#displaying first the data\n",
    "print(stu_data.head())\n",
    "print(stu_data.tail())"
   ]
  },
  {
   "cell_type": "markdown",
   "id": "b2d83ae8",
   "metadata": {},
   "source": [
    "##### Graph depicting the data behaviour"
   ]
  },
  {
   "cell_type": "code",
   "execution_count": 24,
   "id": "735a2437",
   "metadata": {},
   "outputs": [
    {
     "data": {
      "image/png": "[encoded data removed]",
      "text/plain": [
       "<Figure size 432x288 with 1 Axes>"
      ]
     },
     "metadata": {
      "needs_background": "light"
     },
     "output_type": "display_data"
    }
   ],
   "source": [
    "#Displaying data through graph with dependant and independant variables\n",
    "stu_data.plot(x='Hours', y='Scores', style='*')\n",
    "plt.title('Graph of Studied hours effect on percentage')\n",
    "plt.xlabel('Hours Studied')\n",
    "plt.ylabel('Percentage Scored')\n",
    "plt.show()"
   ]
  },
  {
   "cell_type": "markdown",
   "id": "974bdb3c",
   "metadata": {},
   "source": [
    "##### Identifying Inputs/Outputs"
   ]
  },
  {
   "cell_type": "code",
   "execution_count": 25,
   "id": "987b9823",
   "metadata": {},
   "outputs": [
    {
     "name": "stdout",
     "output_type": "stream",
     "text": [
      "Identifying inputs and outputs from data\n"
     ]
    }
   ],
   "source": [
    "#Divide the data in Inputs and Outputs\n",
    "print(\"Identifying inputs and outputs from data\")\n",
    "X=stu_data.iloc[:, :-1].values #including Hours as input\n",
    "y=stu_data.iloc[:,1].values #including Scores as output"
   ]
  },
  {
   "cell_type": "markdown",
   "id": "8fc5a8f2",
   "metadata": {},
   "source": [
    "##### Data Splitting"
   ]
  },
  {
   "cell_type": "code",
   "execution_count": 26,
   "id": "55b01c73",
   "metadata": {},
   "outputs": [
    {
     "name": "stdout",
     "output_type": "stream",
     "text": [
      "Splitting data into test and train sets\n"
     ]
    }
   ],
   "source": [
    "#Spliting data into testing and training sets\n",
    "print(\"Splitting data into test and train sets\")\n",
    "from sklearn.model_selection import train_test_split\n",
    "X_train, X_test, y_train, y_test=train_test_split(X,y,test_size=0.2, random_state=0)\n"
   ]
  },
  {
   "cell_type": "markdown",
   "id": "9a4abf74",
   "metadata": {},
   "source": [
    "##### Training Linear Regression Algorithm"
   ]
  },
  {
   "cell_type": "code",
   "execution_count": 27,
   "id": "864820c2",
   "metadata": {},
   "outputs": [
    {
     "name": "stdout",
     "output_type": "stream",
     "text": [
      "Model is trained\n"
     ]
    },
    {
     "data": {
      "image/png": "[encoded data removed]",
      "text/plain": [
       "<Figure size 432x288 with 1 Axes>"
      ]
     },
     "metadata": {
      "needs_background": "light"
     },
     "output_type": "display_data"
    }
   ],
   "source": [
    "#Training Algorithm\n",
    "\n",
    "from sklearn.linear_model import LinearRegression\n",
    "reg=LinearRegression()\n",
    "reg.fit(X_train, y_train)\n",
    "print(\"Model is trained\")\n",
    "plt_line=reg.coef_*X+reg.intercept_\n",
    "plt.scatter(X,y)\n",
    "plt.plot(X,plt_line);\n",
    "plt.show()"
   ]
  },
  {
   "cell_type": "markdown",
   "id": "a266783d",
   "metadata": {},
   "source": [
    "##### Predictions"
   ]
  },
  {
   "cell_type": "code",
   "execution_count": 32,
   "id": "ab860c61",
   "metadata": {},
   "outputs": [
    {
     "name": "stdout",
     "output_type": "stream",
     "text": [
      "Predicting data\n",
      "   Actual Score  Predicted Score\n",
      "0            20        16.884145\n",
      "1            27        33.732261\n",
      "2            69        75.357018\n",
      "3            30        26.794801\n",
      "4            62        60.491033\n"
     ]
    }
   ],
   "source": [
    "#Prediction\n",
    "test_data=np.array(X_test)\n",
    "print(\"Predicting data\")\n",
    "predict_val= reg.predict(test_data)\n",
    "# Predicting the scores\n",
    "df=pd.DataFrame({'Actual Score': y_test, 'Predicted Score': predict_val})\n",
    "print(df)"
   ]
  },
  {
   "cell_type": "markdown",
   "id": "f6c203aa",
   "metadata": {},
   "source": [
    "##### Self-predicting data"
   ]
  },
  {
   "cell_type": "code",
   "execution_count": 29,
   "id": "c28ce14b",
   "metadata": {},
   "outputs": [
    {
     "name": "stdout",
     "output_type": "stream",
     "text": [
      "Now predicting our own data let's suppose hours is 9.25 then predict the scores\n",
      "Hours  [[9.25]]\n",
      "Predicted Score [93.69173249]\n"
     ]
    }
   ],
   "source": [
    "print(\"Now predicting our own data let's suppose hours is 9.25 then predict the scores\")\n",
    "hours=9.25\n",
    "hours=np.array(hours)\n",
    "hours=hours.reshape(1,-1)\n",
    "test_pred=reg.predict(hours)\n",
    "print(\"Hours \", hours)\n",
    "print(\"Predicted Score\", test_pred)\n"
   ]
  },
  {
   "cell_type": "markdown",
   "id": "66e24e90",
   "metadata": {},
   "source": [
    "##### Evaluation"
   ]
  },
  {
   "cell_type": "code",
   "execution_count": 30,
   "id": "dffbb493",
   "metadata": {},
   "outputs": [
    {
     "name": "stdout",
     "output_type": "stream",
     "text": [
      "Mean Absolute Error: 4.183859899002975\n"
     ]
    }
   ],
   "source": [
    "### from sklearn import metrics\n",
    "print('Mean Absolute Error:',\n",
    "      metrics.mean_absolute_error(y_test, predict_val))\n"
   ]
  },
  {
   "cell_type": "code",
   "execution_count": null,
   "id": "6774e160",
   "metadata": {},
   "outputs": [],
   "source": []
  },
  {
   "cell_type": "code",
   "execution_count": null,
   "id": "50a67c72",
   "metadata": {},
   "outputs": [],
   "source": []
  }
 ],
 "metadata": {
  "kernelspec": {
   "display_name": "Python 3",
   "language": "python",
   "name": "python3"
  },
  "language_info": {
   "codemirror_mode": {
    "name": "ipython",
    "version": 3
   },
   "file_extension": ".py",
   "mimetype": "text/x-python",
   "name": "python",
   "nbconvert_exporter": "python",
   "pygments_lexer": "ipython3",
   "version": "3.9.2"
  },
  "widgets": {
   "application/vnd.jupyter.widget-state+json": {
    "state": {},
    "version_major": 2,
    "version_minor": 0
   }
  }
 },
 "nbformat": 4,
 "nbformat_minor": 5
}
